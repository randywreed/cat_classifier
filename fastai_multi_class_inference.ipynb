{
  "nbformat": 4,
  "nbformat_minor": 0,
  "metadata": {
    "accelerator": "GPU",
    "colab": {
      "name": "fastai_multi_class_inference.ipynb",
      "provenance": [],
      "collapsed_sections": [],
      "authorship_tag": "ABX9TyO0Mws/IXa8lS248IUTshCB",
      "include_colab_link": true
    },
    "kernelspec": {
      "display_name": "Python 3",
      "name": "python3"
    }
  },
  "cells": [
    {
      "cell_type": "markdown",
      "metadata": {
        "id": "view-in-github",
        "colab_type": "text"
      },
      "source": [
        "<a href=\"https://colab.research.google.com/github/randywreed/cat_classifier/blob/main/fastai_multi_class_inference.ipynb\" target=\"_parent\"><img src=\"https://colab.research.google.com/assets/colab-badge.svg\" alt=\"Open In Colab\"/></a>"
      ]
    },
    {
      "cell_type": "code",
      "metadata": {
        "id": "HmzO41nTpruE",
        "outputId": "575f1773-e073-4b91-98a6-5424b6e85dac",
        "colab": {
          "base_uri": "https://localhost:8080/"
        }
      },
      "source": [
        "!pip install -Uqq fastbook\n",
        "import fastbook\n",
        "fastbook.setup_book()"
      ],
      "execution_count": null,
      "outputs": [
        {
          "output_type": "stream",
          "text": [
            "\u001b[K     |████████████████████████████████| 727kB 2.8MB/s \n",
            "\u001b[K     |████████████████████████████████| 51kB 7.3MB/s \n",
            "\u001b[K     |████████████████████████████████| 194kB 14.1MB/s \n",
            "\u001b[K     |████████████████████████████████| 1.1MB 16.2MB/s \n",
            "\u001b[K     |████████████████████████████████| 51kB 7.7MB/s \n",
            "\u001b[K     |████████████████████████████████| 51kB 7.4MB/s \n",
            "\u001b[K     |████████████████████████████████| 92kB 8.8MB/s \n",
            "\u001b[K     |████████████████████████████████| 40kB 6.0MB/s \n",
            "\u001b[K     |████████████████████████████████| 51kB 7.1MB/s \n",
            "\u001b[K     |████████████████████████████████| 61kB 7.6MB/s \n",
            "\u001b[K     |████████████████████████████████| 2.6MB 21.7MB/s \n",
            "\u001b[?25hMounted at /content/gdrive\n"
          ],
          "name": "stdout"
        }
      ]
    },
    {
      "cell_type": "code",
      "metadata": {
        "id": "m3gnll1-p0ha"
      },
      "source": [
        "from fastbook import *\n"
      ],
      "execution_count": null,
      "outputs": []
    },
    {
      "cell_type": "code",
      "metadata": {
        "id": "rGFOe17Qp1Ma"
      },
      "source": [
        "from fastai.vision.all import *\n"
      ],
      "execution_count": null,
      "outputs": []
    },
    {
      "cell_type": "code",
      "metadata": {
        "id": "ZjuJh-Syp6_r",
        "outputId": "2b65b460-2203-4a7b-a75e-095a638139d1",
        "colab": {
          "base_uri": "https://localhost:8080/"
        }
      },
      "source": [
        "from google.colab import drive\n",
        "drive.mount('/content/drive', force_remount=True)"
      ],
      "execution_count": null,
      "outputs": [
        {
          "output_type": "stream",
          "text": [
            "Mounted at /content/drive\n"
          ],
          "name": "stdout"
        }
      ]
    },
    {
      "cell_type": "code",
      "metadata": {
        "id": "HWvkAqKBp7vh"
      },
      "source": [
        "path=Path('/content/drive/Shared drives/Fastai Practice/Mutl_cat/merged')"
      ],
      "execution_count": null,
      "outputs": []
    },
    {
      "cell_type": "code",
      "metadata": {
        "id": "t4EmCVorrPyw"
      },
      "source": [
        "def parent_label_multi(o):\n",
        "    return [Path(o).parent.name]"
      ],
      "execution_count": null,
      "outputs": []
    },
    {
      "cell_type": "code",
      "metadata": {
        "id": "vFfKbxxSV9JZ"
      },
      "source": [
        "def get_x(r): return r['image']\n",
        "def get_y(r): return r['label'].split(',')"
      ],
      "execution_count": null,
      "outputs": []
    },
    {
      "cell_type": "code",
      "metadata": {
        "id": "5Mh1vevbp_vh"
      },
      "source": [
        "learn_inf=load_learner(path/'multi_cats_inc3_v8.pkl')"
      ],
      "execution_count": null,
      "outputs": []
    },
    {
      "cell_type": "code",
      "metadata": {
        "id": "gQSTXWtIRl-E",
        "outputId": "d4c07663-241f-473c-e310-e3f72e449e3c",
        "colab": {
          "base_uri": "https://localhost:8080/"
        }
      },
      "source": [
        "from google.colab import auth\n",
        "auth.authenticate_user()\n",
        "project_id = 'fastai-197203'\n",
        "!gcloud config set project {project_id}\n",
        "!gsutil ls"
      ],
      "execution_count": null,
      "outputs": [
        {
          "output_type": "stream",
          "text": [
            "Updated property [core/project].\n",
            "gs://mult_label_cat_bucket-rwr/\n"
          ],
          "name": "stdout"
        }
      ]
    },
    {
      "cell_type": "code",
      "metadata": {
        "id": "Y5kyw5DLRoS5",
        "outputId": "4cc1b6cd-d1b7-482a-e849-b5d572423b8d",
        "colab": {
          "base_uri": "https://localhost:8080/"
        }
      },
      "source": [
        "bucket_name = 'mult_label_cat_bucket-rwr'\n",
        "!gsutil -m cp -r gs://{bucket_name}/testing_set/testing_set.zip .\n"
      ],
      "execution_count": null,
      "outputs": [
        {
          "output_type": "stream",
          "text": [
            "Copying gs://mult_label_cat_bucket-rwr/testing_set/testing_set.zip...\n",
            "- [1/1 files][115.9 MiB/115.9 MiB] 100% Done                                    \n",
            "Operation completed over 1 objects/115.9 MiB.                                    \n"
          ],
          "name": "stdout"
        }
      ]
    },
    {
      "cell_type": "code",
      "metadata": {
        "id": "Lgu6C4_4t8hk",
        "outputId": "d168f9c8-c583-42f1-f808-547c3adc5e09",
        "colab": {
          "base_uri": "https://localhost:8080/"
        }
      },
      "source": [
        "!unzip testing_set.zip"
      ],
      "execution_count": null,
      "outputs": [
        {
          "output_type": "stream",
          "text": [
            "Archive:  testing_set.zip\n",
            "  inflating: content/testing_set/00100lrPORTRAIT_00100_BURST20200128083515223_COVER.jpg  \n",
            "  inflating: content/testing_set/00100lrPORTRAIT_00100_BURST20200315190957555_COVER.jpg  \n",
            "  inflating: content/testing_set/IMG_20190518_164859_1.jpg  \n",
            "  inflating: content/testing_set/IMG_20191015_231022.jpg  \n",
            "  inflating: content/testing_set/IMG_20191203_093946.jpg  \n",
            "  inflating: content/testing_set/IMG_20191203_093948.jpg  \n",
            "  inflating: content/testing_set/IMG_20200315_191005_1.jpg  \n",
            "  inflating: content/testing_set/IMG_20200315_191005.jpg  \n",
            "  inflating: content/testing_set/IMG_20200329_141945.jpg  \n",
            "  inflating: content/testing_set/IMG_20200331_124625.jpg  \n",
            "  inflating: content/testing_set/MVIMG_20200105_180116.jpg  \n",
            "  inflating: content/testing_set/PXL_20201026_000614264.jpg  \n",
            "  inflating: content/testing_set/PXL_20201026_000619496.jpg  \n",
            "  inflating: content/testing_set/PXL_20201026_000632284.jpg  \n",
            "  inflating: content/testing_set/PXL_20201026_000819556.jpg  \n",
            "  inflating: content/testing_set/PXL_20201026_000820814.jpg  \n",
            "  inflating: content/testing_set/PXL_20201026_134945797.jpg  \n",
            "  inflating: content/testing_set/PXL_20201026_134951643.jpg  \n",
            "  inflating: content/testing_set/PXL_20201026_134954438.jpg  \n",
            "  inflating: content/testing_set/PXL_20201026_134956181.jpg  \n",
            "  inflating: content/testing_set/PXL_20201026_135001981.jpg  \n",
            "  inflating: content/testing_set/PXL_20201026_135012076.jpg  \n",
            "  inflating: content/testing_set/PXL_20201026_135040573.jpg  \n",
            "  inflating: content/testing_set/PXL_20201026_135043446.jpg  \n",
            "  inflating: content/testing_set/PXL_20201026_135044420.jpg  \n",
            "  inflating: content/testing_set/PXL_20201026_135052841.jpg  \n",
            "  inflating: content/testing_set/PXL_20201026_135107396.jpg  \n",
            "  inflating: content/testing_set/PXL_20201026_140019998.jpg  \n",
            "  inflating: content/testing_set/PXL_20201026_140021390.jpg  \n",
            "  inflating: content/testing_set/PXL_20201026_140026568.jpg  \n",
            "  inflating: content/testing_set/PXL_20201026_140030374.jpg  \n",
            "  inflating: content/testing_set/PXL_20201026_140032748.jpg  \n",
            "  inflating: content/testing_set/PXL_20201026_140036884.jpg  \n",
            "  inflating: content/testing_set/PXL_20201026_162351990.jpg  \n",
            "  inflating: content/testing_set/PXL_20201026_162352886.jpg  \n",
            "  inflating: content/testing_set/PXL_20201026_162354448.jpg  \n",
            "  inflating: content/testing_set/PXL_20201026_162357576.jpg  \n"
          ],
          "name": "stdout"
        }
      ]
    },
    {
      "cell_type": "code",
      "metadata": {
        "id": "VeuNknC7mr-H",
        "outputId": "7ed0ff48-806f-41f1-ff97-25f17868e19f",
        "colab": {
          "base_uri": "https://localhost:8080/"
        }
      },
      "source": [
        "# from google.colab import auth\n",
        "# auth.authenticate_user()\n",
        "\n",
        "# !echo \"deb http://packages.cloud.google.com/apt gcsfuse-bionic main\" > /etc/apt/sources.list.d/gcsfuse.list\n",
        "# !curl https://packages.cloud.google.com/apt/doc/apt-key.gpg | apt-key add -\n",
        "# !apt -qq update\n",
        "# !apt -qq install gcsfuse\n",
        "\n",
        "# bucket_name = 'mult_label_cat_bucket-rwr'\n",
        "# !mkdir my_bucket\n",
        "# !gcsfuse $bucket_name /content/my_bucket"
      ],
      "execution_count": null,
      "outputs": [
        {
          "output_type": "stream",
          "text": [
            "  % Total    % Received % Xferd  Average Speed   Time    Time     Time  Current\n",
            "                                 Dload  Upload   Total   Spent    Left  Speed\n",
            "\r  0     0    0     0    0     0      0      0 --:--:-- --:--:-- --:--:--     0\r100   653  100   653    0     0  19787      0 --:--:-- --:--:-- --:--:-- 20406\n",
            "OK\n",
            "40 packages can be upgraded. Run 'apt list --upgradable' to see them.\n",
            "The following NEW packages will be installed:\n",
            "  gcsfuse\n",
            "0 upgraded, 1 newly installed, 0 to remove and 40 not upgraded.\n",
            "Need to get 10.7 MB of archives.\n",
            "After this operation, 22.9 MB of additional disk space will be used.\n",
            "Selecting previously unselected package gcsfuse.\n",
            "(Reading database ... 144628 files and directories currently installed.)\n",
            "Preparing to unpack .../gcsfuse_0.32.0_amd64.deb ...\n",
            "Unpacking gcsfuse (0.32.0) ...\n",
            "Setting up gcsfuse (0.32.0) ...\n",
            "Using mount point: /content/my_bucket\n",
            "Opening GCS connection...\n",
            "Mounting file system...\n",
            "File system has been successfully mounted.\n"
          ],
          "name": "stdout"
        }
      ]
    },
    {
      "cell_type": "code",
      "metadata": {
        "id": "Aw0QjqkV9lw4"
      },
      "source": [
        "data_path='/content/drive/Shared drives/Fastai Practice/multiple_cat_test'\n",
        "#data_path='/content/drive/Shared drives/Fastai Practice/Mutl_cat/merged/asha_chidi'\n",
        "#data_path=\"/content/my_bucket/\""
      ],
      "execution_count": null,
      "outputs": []
    },
    {
      "cell_type": "code",
      "metadata": {
        "id": "2By-GO3tx4Wg"
      },
      "source": [
        "learn_inf.loss_func=BCEWithLogitsLossFlat(thresh=0.85)\n"
      ],
      "execution_count": null,
      "outputs": []
    },
    {
      "cell_type": "code",
      "metadata": {
        "id": "gEQfsZdN36Ca"
      },
      "source": [
        "#import glob\n",
        "#spath=str(data_path)\n",
        "#files=glob.glob(spath+\"/*.jpg\")+glob.glob(spath+\"/*.png\")+glob.glob(spath+\"/*.gif\")"
      ],
      "execution_count": null,
      "outputs": []
    },
    {
      "cell_type": "code",
      "metadata": {
        "id": "VG-9kLI0dfYR"
      },
      "source": [
        "import pandas as pd\n",
        "df=pd.read_pickle(data_path+'/multi_cat_test_set_gcs.pkl')"
      ],
      "execution_count": null,
      "outputs": []
    },
    {
      "cell_type": "code",
      "metadata": {
        "id": "iiWlqP9rg5Mj"
      },
      "source": [
        "df.loc[(df.label=='asha,vahti,chidi'),'label']='asha,chidi,vahti'"
      ],
      "execution_count": null,
      "outputs": []
    },
    {
      "cell_type": "code",
      "metadata": {
        "id": "U00MwqYb0SVl",
        "outputId": "9c8f030a-ba66-4b17-bbbd-e7d34b24622f",
        "colab": {
          "base_uri": "https://localhost:8080/",
          "height": 1000
        }
      },
      "source": [
        "df"
      ],
      "execution_count": null,
      "outputs": [
        {
          "output_type": "execute_result",
          "data": {
            "text/html": [
              "<div>\n",
              "<style scoped>\n",
              "    .dataframe tbody tr th:only-of-type {\n",
              "        vertical-align: middle;\n",
              "    }\n",
              "\n",
              "    .dataframe tbody tr th {\n",
              "        vertical-align: top;\n",
              "    }\n",
              "\n",
              "    .dataframe thead th {\n",
              "        text-align: right;\n",
              "    }\n",
              "</style>\n",
              "<table border=\"1\" class=\"dataframe\">\n",
              "  <thead>\n",
              "    <tr style=\"text-align: right;\">\n",
              "      <th></th>\n",
              "      <th>image</th>\n",
              "      <th>label</th>\n",
              "    </tr>\n",
              "  </thead>\n",
              "  <tbody>\n",
              "    <tr>\n",
              "      <th>0</th>\n",
              "      <td>/content/my_bucket/testing_set/IMG_20200428_203407.jpg</td>\n",
              "      <td>asha,chidi</td>\n",
              "    </tr>\n",
              "    <tr>\n",
              "      <th>1</th>\n",
              "      <td>/content/my_bucket/testing_set/IMG_20200331_124625.jpg</td>\n",
              "      <td>asha,chidi</td>\n",
              "    </tr>\n",
              "    <tr>\n",
              "      <th>2</th>\n",
              "      <td>/content/my_bucket/testing_set/MVIMG_20200105_180116.jpg</td>\n",
              "      <td>asha,chidi</td>\n",
              "    </tr>\n",
              "    <tr>\n",
              "      <th>3</th>\n",
              "      <td>/content/my_bucket/testing_set/IMG_20200329_141945.jpg</td>\n",
              "      <td>asha,chidi</td>\n",
              "    </tr>\n",
              "    <tr>\n",
              "      <th>4</th>\n",
              "      <td>/content/my_bucket/testing_set/IMG_20190609_130854.jpg</td>\n",
              "      <td>asha,chidi</td>\n",
              "    </tr>\n",
              "    <tr>\n",
              "      <th>5</th>\n",
              "      <td>/content/my_bucket/testing_set/IMG_20191015_231022.jpg</td>\n",
              "      <td>asha,chidi</td>\n",
              "    </tr>\n",
              "    <tr>\n",
              "      <th>6</th>\n",
              "      <td>/content/my_bucket/testing_set/IMG_20190530_020937.jpg</td>\n",
              "      <td>asha,chidi</td>\n",
              "    </tr>\n",
              "    <tr>\n",
              "      <th>7</th>\n",
              "      <td>/content/my_bucket/testing_set/IMG_20190113_114712.jpg</td>\n",
              "      <td>asha,chidi</td>\n",
              "    </tr>\n",
              "    <tr>\n",
              "      <th>8</th>\n",
              "      <td>/content/my_bucket/testing_set/00100lrPORTRAIT_00100_BURST20200128083515223_COVER.jpg</td>\n",
              "      <td>asha,vahti</td>\n",
              "    </tr>\n",
              "    <tr>\n",
              "      <th>9</th>\n",
              "      <td>/content/my_bucket/testing_set/00100lrPORTRAIT_00100_BURST20200315190957555_COVER.jpg</td>\n",
              "      <td>asha,vahti</td>\n",
              "    </tr>\n",
              "    <tr>\n",
              "      <th>10</th>\n",
              "      <td>/content/my_bucket/testing_set/IMG_20200315_191005.jpg</td>\n",
              "      <td>asha,vahti</td>\n",
              "    </tr>\n",
              "    <tr>\n",
              "      <th>11</th>\n",
              "      <td>/content/my_bucket/testing_set/IMG_20200315_191005_1.jpg</td>\n",
              "      <td>asha,vahti</td>\n",
              "    </tr>\n",
              "    <tr>\n",
              "      <th>12</th>\n",
              "      <td>/content/my_bucket/testing_set/IMG_20191203_093948.jpg</td>\n",
              "      <td>asha,chidi,vahti</td>\n",
              "    </tr>\n",
              "    <tr>\n",
              "      <th>13</th>\n",
              "      <td>/content/my_bucket/testing_set/IMG_20191203_093946.jpg</td>\n",
              "      <td>asha,chidi,vahti</td>\n",
              "    </tr>\n",
              "    <tr>\n",
              "      <th>14</th>\n",
              "      <td>/content/my_bucket/testing_set/IMG_20190707_174912.jpg</td>\n",
              "      <td>asha,vahti</td>\n",
              "    </tr>\n",
              "    <tr>\n",
              "      <th>15</th>\n",
              "      <td>/content/my_bucket/testing_set/IMG_20190518_164859_1.jpg</td>\n",
              "      <td>asha,vahti</td>\n",
              "    </tr>\n",
              "    <tr>\n",
              "      <th>16</th>\n",
              "      <td>/content/my_bucket/testing_set/PXL_20201026_162352886.jpg</td>\n",
              "      <td>asha,chidi</td>\n",
              "    </tr>\n",
              "    <tr>\n",
              "      <th>17</th>\n",
              "      <td>/content/my_bucket/testing_set/PXL_20201026_162351990.jpg</td>\n",
              "      <td>asha,chidi</td>\n",
              "    </tr>\n",
              "    <tr>\n",
              "      <th>18</th>\n",
              "      <td>/content/my_bucket/testing_set/PXL_20201026_162354448.jpg</td>\n",
              "      <td>asha,chidi</td>\n",
              "    </tr>\n",
              "    <tr>\n",
              "      <th>19</th>\n",
              "      <td>/content/my_bucket/testing_set/PXL_20201026_162357576.jpg</td>\n",
              "      <td>asha,chidi</td>\n",
              "    </tr>\n",
              "    <tr>\n",
              "      <th>20</th>\n",
              "      <td>/content/my_bucket/testing_set/PXL_20201026_140036884.jpg</td>\n",
              "      <td>asha,chidi,vahti</td>\n",
              "    </tr>\n",
              "    <tr>\n",
              "      <th>21</th>\n",
              "      <td>/content/my_bucket/testing_set/PXL_20201026_140032748.jpg</td>\n",
              "      <td>asha,chidi,vahti</td>\n",
              "    </tr>\n",
              "    <tr>\n",
              "      <th>22</th>\n",
              "      <td>/content/my_bucket/testing_set/PXL_20201026_140030374.jpg</td>\n",
              "      <td>asha,chidi,vahti</td>\n",
              "    </tr>\n",
              "    <tr>\n",
              "      <th>23</th>\n",
              "      <td>/content/my_bucket/testing_set/PXL_20201026_140026568.jpg</td>\n",
              "      <td>asha,chidi,vahti</td>\n",
              "    </tr>\n",
              "    <tr>\n",
              "      <th>24</th>\n",
              "      <td>/content/my_bucket/testing_set/PXL_20201026_140019998.jpg</td>\n",
              "      <td>asha,chidi,vahti</td>\n",
              "    </tr>\n",
              "    <tr>\n",
              "      <th>25</th>\n",
              "      <td>/content/my_bucket/testing_set/PXL_20201026_140021390.jpg</td>\n",
              "      <td>asha,chidi,vahti</td>\n",
              "    </tr>\n",
              "    <tr>\n",
              "      <th>26</th>\n",
              "      <td>/content/my_bucket/testing_set/PXL_20201026_135107396.jpg</td>\n",
              "      <td>asha,chidi</td>\n",
              "    </tr>\n",
              "    <tr>\n",
              "      <th>27</th>\n",
              "      <td>/content/my_bucket/testing_set/PXL_20201026_135052841.jpg</td>\n",
              "      <td>asha,chidi</td>\n",
              "    </tr>\n",
              "    <tr>\n",
              "      <th>28</th>\n",
              "      <td>/content/my_bucket/testing_set/PXL_20201026_135044420.jpg</td>\n",
              "      <td>asha,chidi</td>\n",
              "    </tr>\n",
              "    <tr>\n",
              "      <th>29</th>\n",
              "      <td>/content/my_bucket/testing_set/PXL_20201026_135043446.jpg</td>\n",
              "      <td>asha,chidi</td>\n",
              "    </tr>\n",
              "    <tr>\n",
              "      <th>30</th>\n",
              "      <td>/content/my_bucket/testing_set/PXL_20201026_135040573.jpg</td>\n",
              "      <td>asha,chidi</td>\n",
              "    </tr>\n",
              "    <tr>\n",
              "      <th>31</th>\n",
              "      <td>/content/my_bucket/testing_set/PXL_20201026_135012076.jpg</td>\n",
              "      <td>asha,chidi</td>\n",
              "    </tr>\n",
              "    <tr>\n",
              "      <th>32</th>\n",
              "      <td>/content/my_bucket/testing_set/PXL_20201026_135001981.jpg</td>\n",
              "      <td>asha,chidi</td>\n",
              "    </tr>\n",
              "    <tr>\n",
              "      <th>33</th>\n",
              "      <td>/content/my_bucket/testing_set/PXL_20201026_134945797.jpg</td>\n",
              "      <td>asha,chidi</td>\n",
              "    </tr>\n",
              "    <tr>\n",
              "      <th>34</th>\n",
              "      <td>/content/my_bucket/testing_set/PXL_20201026_134956181.jpg</td>\n",
              "      <td>asha,chidi</td>\n",
              "    </tr>\n",
              "    <tr>\n",
              "      <th>35</th>\n",
              "      <td>/content/my_bucket/testing_set/PXL_20201026_134951643.jpg</td>\n",
              "      <td>asha,chidi</td>\n",
              "    </tr>\n",
              "    <tr>\n",
              "      <th>36</th>\n",
              "      <td>/content/my_bucket/testing_set/PXL_20201026_134954438.jpg</td>\n",
              "      <td>asha,chidi</td>\n",
              "    </tr>\n",
              "    <tr>\n",
              "      <th>37</th>\n",
              "      <td>/content/my_bucket/testing_set/PXL_20201026_000820814.jpg</td>\n",
              "      <td>asha,chidi</td>\n",
              "    </tr>\n",
              "    <tr>\n",
              "      <th>38</th>\n",
              "      <td>/content/my_bucket/testing_set/PXL_20201026_000819556.jpg</td>\n",
              "      <td>asha,chidi</td>\n",
              "    </tr>\n",
              "    <tr>\n",
              "      <th>39</th>\n",
              "      <td>/content/my_bucket/testing_set/PXL_20201026_000632284.jpg</td>\n",
              "      <td>asha,chidi</td>\n",
              "    </tr>\n",
              "    <tr>\n",
              "      <th>40</th>\n",
              "      <td>/content/my_bucket/testing_set/PXL_20201026_000619496.jpg</td>\n",
              "      <td>asha,chidi</td>\n",
              "    </tr>\n",
              "    <tr>\n",
              "      <th>41</th>\n",
              "      <td>/content/my_bucket/testing_set/PXL_20201026_000614264.jpg</td>\n",
              "      <td>asha,chidi</td>\n",
              "    </tr>\n",
              "  </tbody>\n",
              "</table>\n",
              "</div>"
            ],
            "text/plain": [
              "                                                                                    image  \\\n",
              "0                                  /content/my_bucket/testing_set/IMG_20200428_203407.jpg   \n",
              "1                                  /content/my_bucket/testing_set/IMG_20200331_124625.jpg   \n",
              "2                                /content/my_bucket/testing_set/MVIMG_20200105_180116.jpg   \n",
              "3                                  /content/my_bucket/testing_set/IMG_20200329_141945.jpg   \n",
              "4                                  /content/my_bucket/testing_set/IMG_20190609_130854.jpg   \n",
              "5                                  /content/my_bucket/testing_set/IMG_20191015_231022.jpg   \n",
              "6                                  /content/my_bucket/testing_set/IMG_20190530_020937.jpg   \n",
              "7                                  /content/my_bucket/testing_set/IMG_20190113_114712.jpg   \n",
              "8   /content/my_bucket/testing_set/00100lrPORTRAIT_00100_BURST20200128083515223_COVER.jpg   \n",
              "9   /content/my_bucket/testing_set/00100lrPORTRAIT_00100_BURST20200315190957555_COVER.jpg   \n",
              "10                                 /content/my_bucket/testing_set/IMG_20200315_191005.jpg   \n",
              "11                               /content/my_bucket/testing_set/IMG_20200315_191005_1.jpg   \n",
              "12                                 /content/my_bucket/testing_set/IMG_20191203_093948.jpg   \n",
              "13                                 /content/my_bucket/testing_set/IMG_20191203_093946.jpg   \n",
              "14                                 /content/my_bucket/testing_set/IMG_20190707_174912.jpg   \n",
              "15                               /content/my_bucket/testing_set/IMG_20190518_164859_1.jpg   \n",
              "16                              /content/my_bucket/testing_set/PXL_20201026_162352886.jpg   \n",
              "17                              /content/my_bucket/testing_set/PXL_20201026_162351990.jpg   \n",
              "18                              /content/my_bucket/testing_set/PXL_20201026_162354448.jpg   \n",
              "19                              /content/my_bucket/testing_set/PXL_20201026_162357576.jpg   \n",
              "20                              /content/my_bucket/testing_set/PXL_20201026_140036884.jpg   \n",
              "21                              /content/my_bucket/testing_set/PXL_20201026_140032748.jpg   \n",
              "22                              /content/my_bucket/testing_set/PXL_20201026_140030374.jpg   \n",
              "23                              /content/my_bucket/testing_set/PXL_20201026_140026568.jpg   \n",
              "24                              /content/my_bucket/testing_set/PXL_20201026_140019998.jpg   \n",
              "25                              /content/my_bucket/testing_set/PXL_20201026_140021390.jpg   \n",
              "26                              /content/my_bucket/testing_set/PXL_20201026_135107396.jpg   \n",
              "27                              /content/my_bucket/testing_set/PXL_20201026_135052841.jpg   \n",
              "28                              /content/my_bucket/testing_set/PXL_20201026_135044420.jpg   \n",
              "29                              /content/my_bucket/testing_set/PXL_20201026_135043446.jpg   \n",
              "30                              /content/my_bucket/testing_set/PXL_20201026_135040573.jpg   \n",
              "31                              /content/my_bucket/testing_set/PXL_20201026_135012076.jpg   \n",
              "32                              /content/my_bucket/testing_set/PXL_20201026_135001981.jpg   \n",
              "33                              /content/my_bucket/testing_set/PXL_20201026_134945797.jpg   \n",
              "34                              /content/my_bucket/testing_set/PXL_20201026_134956181.jpg   \n",
              "35                              /content/my_bucket/testing_set/PXL_20201026_134951643.jpg   \n",
              "36                              /content/my_bucket/testing_set/PXL_20201026_134954438.jpg   \n",
              "37                              /content/my_bucket/testing_set/PXL_20201026_000820814.jpg   \n",
              "38                              /content/my_bucket/testing_set/PXL_20201026_000819556.jpg   \n",
              "39                              /content/my_bucket/testing_set/PXL_20201026_000632284.jpg   \n",
              "40                              /content/my_bucket/testing_set/PXL_20201026_000619496.jpg   \n",
              "41                              /content/my_bucket/testing_set/PXL_20201026_000614264.jpg   \n",
              "\n",
              "               label  \n",
              "0         asha,chidi  \n",
              "1         asha,chidi  \n",
              "2         asha,chidi  \n",
              "3         asha,chidi  \n",
              "4         asha,chidi  \n",
              "5         asha,chidi  \n",
              "6         asha,chidi  \n",
              "7         asha,chidi  \n",
              "8         asha,vahti  \n",
              "9         asha,vahti  \n",
              "10        asha,vahti  \n",
              "11        asha,vahti  \n",
              "12  asha,chidi,vahti  \n",
              "13  asha,chidi,vahti  \n",
              "14        asha,vahti  \n",
              "15        asha,vahti  \n",
              "16        asha,chidi  \n",
              "17        asha,chidi  \n",
              "18        asha,chidi  \n",
              "19        asha,chidi  \n",
              "20  asha,chidi,vahti  \n",
              "21  asha,chidi,vahti  \n",
              "22  asha,chidi,vahti  \n",
              "23  asha,chidi,vahti  \n",
              "24  asha,chidi,vahti  \n",
              "25  asha,chidi,vahti  \n",
              "26        asha,chidi  \n",
              "27        asha,chidi  \n",
              "28        asha,chidi  \n",
              "29        asha,chidi  \n",
              "30        asha,chidi  \n",
              "31        asha,chidi  \n",
              "32        asha,chidi  \n",
              "33        asha,chidi  \n",
              "34        asha,chidi  \n",
              "35        asha,chidi  \n",
              "36        asha,chidi  \n",
              "37        asha,chidi  \n",
              "38        asha,chidi  \n",
              "39        asha,chidi  \n",
              "40        asha,chidi  \n",
              "41        asha,chidi  "
            ]
          },
          "metadata": {
            "tags": []
          },
          "execution_count": 19
        }
      ]
    },
    {
      "cell_type": "code",
      "metadata": {
        "id": "wS8miBg8u4Ks"
      },
      "source": [
        "def fix_path(opath):\n",
        "  import pathlib\n",
        "  path=Path(opath).name\n",
        "  #index=path.parts.index('Shared drives')\n",
        "  #npath=pathlib.Path('/content/gdrive').joinpath(*path.parts[index:])\n",
        "  new_path=Path('/content/content/testing_set')\n",
        "  npath=new_path.joinpath(path)\n",
        "  return npath"
      ],
      "execution_count": null,
      "outputs": []
    },
    {
      "cell_type": "code",
      "metadata": {
        "id": "pht7-iJ1uRMi",
        "outputId": "854ddf50-f545-4350-b229-2f680edb9f5e",
        "colab": {
          "base_uri": "https://localhost:8080/",
          "height": 1000
        }
      },
      "source": [
        "#fix the df\n",
        "df.image=df.image.apply(fix_path)\n",
        "df"
      ],
      "execution_count": null,
      "outputs": [
        {
          "output_type": "execute_result",
          "data": {
            "text/html": [
              "<div>\n",
              "<style scoped>\n",
              "    .dataframe tbody tr th:only-of-type {\n",
              "        vertical-align: middle;\n",
              "    }\n",
              "\n",
              "    .dataframe tbody tr th {\n",
              "        vertical-align: top;\n",
              "    }\n",
              "\n",
              "    .dataframe thead th {\n",
              "        text-align: right;\n",
              "    }\n",
              "</style>\n",
              "<table border=\"1\" class=\"dataframe\">\n",
              "  <thead>\n",
              "    <tr style=\"text-align: right;\">\n",
              "      <th></th>\n",
              "      <th>image</th>\n",
              "      <th>label</th>\n",
              "    </tr>\n",
              "  </thead>\n",
              "  <tbody>\n",
              "    <tr>\n",
              "      <th>0</th>\n",
              "      <td>/content/content/testing_set/IMG_20200428_203407.jpg</td>\n",
              "      <td>asha,chidi</td>\n",
              "    </tr>\n",
              "    <tr>\n",
              "      <th>1</th>\n",
              "      <td>/content/content/testing_set/IMG_20200331_124625.jpg</td>\n",
              "      <td>asha,chidi</td>\n",
              "    </tr>\n",
              "    <tr>\n",
              "      <th>2</th>\n",
              "      <td>/content/content/testing_set/MVIMG_20200105_180116.jpg</td>\n",
              "      <td>asha,chidi</td>\n",
              "    </tr>\n",
              "    <tr>\n",
              "      <th>3</th>\n",
              "      <td>/content/content/testing_set/IMG_20200329_141945.jpg</td>\n",
              "      <td>asha,chidi</td>\n",
              "    </tr>\n",
              "    <tr>\n",
              "      <th>4</th>\n",
              "      <td>/content/content/testing_set/IMG_20190609_130854.jpg</td>\n",
              "      <td>asha,chidi</td>\n",
              "    </tr>\n",
              "    <tr>\n",
              "      <th>5</th>\n",
              "      <td>/content/content/testing_set/IMG_20191015_231022.jpg</td>\n",
              "      <td>asha,chidi</td>\n",
              "    </tr>\n",
              "    <tr>\n",
              "      <th>6</th>\n",
              "      <td>/content/content/testing_set/IMG_20190530_020937.jpg</td>\n",
              "      <td>asha,chidi</td>\n",
              "    </tr>\n",
              "    <tr>\n",
              "      <th>7</th>\n",
              "      <td>/content/content/testing_set/IMG_20190113_114712.jpg</td>\n",
              "      <td>asha,chidi</td>\n",
              "    </tr>\n",
              "    <tr>\n",
              "      <th>8</th>\n",
              "      <td>/content/content/testing_set/00100lrPORTRAIT_00100_BURST20200128083515223_COVER.jpg</td>\n",
              "      <td>asha,vahti</td>\n",
              "    </tr>\n",
              "    <tr>\n",
              "      <th>9</th>\n",
              "      <td>/content/content/testing_set/00100lrPORTRAIT_00100_BURST20200315190957555_COVER.jpg</td>\n",
              "      <td>asha,vahti</td>\n",
              "    </tr>\n",
              "    <tr>\n",
              "      <th>10</th>\n",
              "      <td>/content/content/testing_set/IMG_20200315_191005.jpg</td>\n",
              "      <td>asha,vahti</td>\n",
              "    </tr>\n",
              "    <tr>\n",
              "      <th>11</th>\n",
              "      <td>/content/content/testing_set/IMG_20200315_191005_1.jpg</td>\n",
              "      <td>asha,vahti</td>\n",
              "    </tr>\n",
              "    <tr>\n",
              "      <th>12</th>\n",
              "      <td>/content/content/testing_set/IMG_20191203_093948.jpg</td>\n",
              "      <td>asha,chidi,vahti</td>\n",
              "    </tr>\n",
              "    <tr>\n",
              "      <th>13</th>\n",
              "      <td>/content/content/testing_set/IMG_20191203_093946.jpg</td>\n",
              "      <td>asha,chidi,vahti</td>\n",
              "    </tr>\n",
              "    <tr>\n",
              "      <th>14</th>\n",
              "      <td>/content/content/testing_set/IMG_20190707_174912.jpg</td>\n",
              "      <td>asha,vahti</td>\n",
              "    </tr>\n",
              "    <tr>\n",
              "      <th>15</th>\n",
              "      <td>/content/content/testing_set/IMG_20190518_164859_1.jpg</td>\n",
              "      <td>asha,vahti</td>\n",
              "    </tr>\n",
              "    <tr>\n",
              "      <th>16</th>\n",
              "      <td>/content/content/testing_set/PXL_20201026_162352886.jpg</td>\n",
              "      <td>asha,chidi</td>\n",
              "    </tr>\n",
              "    <tr>\n",
              "      <th>17</th>\n",
              "      <td>/content/content/testing_set/PXL_20201026_162351990.jpg</td>\n",
              "      <td>asha,chidi</td>\n",
              "    </tr>\n",
              "    <tr>\n",
              "      <th>18</th>\n",
              "      <td>/content/content/testing_set/PXL_20201026_162354448.jpg</td>\n",
              "      <td>asha,chidi</td>\n",
              "    </tr>\n",
              "    <tr>\n",
              "      <th>19</th>\n",
              "      <td>/content/content/testing_set/PXL_20201026_162357576.jpg</td>\n",
              "      <td>asha,chidi</td>\n",
              "    </tr>\n",
              "    <tr>\n",
              "      <th>20</th>\n",
              "      <td>/content/content/testing_set/PXL_20201026_140036884.jpg</td>\n",
              "      <td>asha,chidi,vahti</td>\n",
              "    </tr>\n",
              "    <tr>\n",
              "      <th>21</th>\n",
              "      <td>/content/content/testing_set/PXL_20201026_140032748.jpg</td>\n",
              "      <td>asha,chidi,vahti</td>\n",
              "    </tr>\n",
              "    <tr>\n",
              "      <th>22</th>\n",
              "      <td>/content/content/testing_set/PXL_20201026_140030374.jpg</td>\n",
              "      <td>asha,chidi,vahti</td>\n",
              "    </tr>\n",
              "    <tr>\n",
              "      <th>23</th>\n",
              "      <td>/content/content/testing_set/PXL_20201026_140026568.jpg</td>\n",
              "      <td>asha,chidi,vahti</td>\n",
              "    </tr>\n",
              "    <tr>\n",
              "      <th>24</th>\n",
              "      <td>/content/content/testing_set/PXL_20201026_140019998.jpg</td>\n",
              "      <td>asha,chidi,vahti</td>\n",
              "    </tr>\n",
              "    <tr>\n",
              "      <th>25</th>\n",
              "      <td>/content/content/testing_set/PXL_20201026_140021390.jpg</td>\n",
              "      <td>asha,chidi,vahti</td>\n",
              "    </tr>\n",
              "    <tr>\n",
              "      <th>26</th>\n",
              "      <td>/content/content/testing_set/PXL_20201026_135107396.jpg</td>\n",
              "      <td>asha,chidi</td>\n",
              "    </tr>\n",
              "    <tr>\n",
              "      <th>27</th>\n",
              "      <td>/content/content/testing_set/PXL_20201026_135052841.jpg</td>\n",
              "      <td>asha,chidi</td>\n",
              "    </tr>\n",
              "    <tr>\n",
              "      <th>28</th>\n",
              "      <td>/content/content/testing_set/PXL_20201026_135044420.jpg</td>\n",
              "      <td>asha,chidi</td>\n",
              "    </tr>\n",
              "    <tr>\n",
              "      <th>29</th>\n",
              "      <td>/content/content/testing_set/PXL_20201026_135043446.jpg</td>\n",
              "      <td>asha,chidi</td>\n",
              "    </tr>\n",
              "    <tr>\n",
              "      <th>30</th>\n",
              "      <td>/content/content/testing_set/PXL_20201026_135040573.jpg</td>\n",
              "      <td>asha,chidi</td>\n",
              "    </tr>\n",
              "    <tr>\n",
              "      <th>31</th>\n",
              "      <td>/content/content/testing_set/PXL_20201026_135012076.jpg</td>\n",
              "      <td>asha,chidi</td>\n",
              "    </tr>\n",
              "    <tr>\n",
              "      <th>32</th>\n",
              "      <td>/content/content/testing_set/PXL_20201026_135001981.jpg</td>\n",
              "      <td>asha,chidi</td>\n",
              "    </tr>\n",
              "    <tr>\n",
              "      <th>33</th>\n",
              "      <td>/content/content/testing_set/PXL_20201026_134945797.jpg</td>\n",
              "      <td>asha,chidi</td>\n",
              "    </tr>\n",
              "    <tr>\n",
              "      <th>34</th>\n",
              "      <td>/content/content/testing_set/PXL_20201026_134956181.jpg</td>\n",
              "      <td>asha,chidi</td>\n",
              "    </tr>\n",
              "    <tr>\n",
              "      <th>35</th>\n",
              "      <td>/content/content/testing_set/PXL_20201026_134951643.jpg</td>\n",
              "      <td>asha,chidi</td>\n",
              "    </tr>\n",
              "    <tr>\n",
              "      <th>36</th>\n",
              "      <td>/content/content/testing_set/PXL_20201026_134954438.jpg</td>\n",
              "      <td>asha,chidi</td>\n",
              "    </tr>\n",
              "    <tr>\n",
              "      <th>37</th>\n",
              "      <td>/content/content/testing_set/PXL_20201026_000820814.jpg</td>\n",
              "      <td>asha,chidi</td>\n",
              "    </tr>\n",
              "    <tr>\n",
              "      <th>38</th>\n",
              "      <td>/content/content/testing_set/PXL_20201026_000819556.jpg</td>\n",
              "      <td>asha,chidi</td>\n",
              "    </tr>\n",
              "    <tr>\n",
              "      <th>39</th>\n",
              "      <td>/content/content/testing_set/PXL_20201026_000632284.jpg</td>\n",
              "      <td>asha,chidi</td>\n",
              "    </tr>\n",
              "    <tr>\n",
              "      <th>40</th>\n",
              "      <td>/content/content/testing_set/PXL_20201026_000619496.jpg</td>\n",
              "      <td>asha,chidi</td>\n",
              "    </tr>\n",
              "    <tr>\n",
              "      <th>41</th>\n",
              "      <td>/content/content/testing_set/PXL_20201026_000614264.jpg</td>\n",
              "      <td>asha,chidi</td>\n",
              "    </tr>\n",
              "  </tbody>\n",
              "</table>\n",
              "</div>"
            ],
            "text/plain": [
              "                                                                                  image  \\\n",
              "0                                  /content/content/testing_set/IMG_20200428_203407.jpg   \n",
              "1                                  /content/content/testing_set/IMG_20200331_124625.jpg   \n",
              "2                                /content/content/testing_set/MVIMG_20200105_180116.jpg   \n",
              "3                                  /content/content/testing_set/IMG_20200329_141945.jpg   \n",
              "4                                  /content/content/testing_set/IMG_20190609_130854.jpg   \n",
              "5                                  /content/content/testing_set/IMG_20191015_231022.jpg   \n",
              "6                                  /content/content/testing_set/IMG_20190530_020937.jpg   \n",
              "7                                  /content/content/testing_set/IMG_20190113_114712.jpg   \n",
              "8   /content/content/testing_set/00100lrPORTRAIT_00100_BURST20200128083515223_COVER.jpg   \n",
              "9   /content/content/testing_set/00100lrPORTRAIT_00100_BURST20200315190957555_COVER.jpg   \n",
              "10                                 /content/content/testing_set/IMG_20200315_191005.jpg   \n",
              "11                               /content/content/testing_set/IMG_20200315_191005_1.jpg   \n",
              "12                                 /content/content/testing_set/IMG_20191203_093948.jpg   \n",
              "13                                 /content/content/testing_set/IMG_20191203_093946.jpg   \n",
              "14                                 /content/content/testing_set/IMG_20190707_174912.jpg   \n",
              "15                               /content/content/testing_set/IMG_20190518_164859_1.jpg   \n",
              "16                              /content/content/testing_set/PXL_20201026_162352886.jpg   \n",
              "17                              /content/content/testing_set/PXL_20201026_162351990.jpg   \n",
              "18                              /content/content/testing_set/PXL_20201026_162354448.jpg   \n",
              "19                              /content/content/testing_set/PXL_20201026_162357576.jpg   \n",
              "20                              /content/content/testing_set/PXL_20201026_140036884.jpg   \n",
              "21                              /content/content/testing_set/PXL_20201026_140032748.jpg   \n",
              "22                              /content/content/testing_set/PXL_20201026_140030374.jpg   \n",
              "23                              /content/content/testing_set/PXL_20201026_140026568.jpg   \n",
              "24                              /content/content/testing_set/PXL_20201026_140019998.jpg   \n",
              "25                              /content/content/testing_set/PXL_20201026_140021390.jpg   \n",
              "26                              /content/content/testing_set/PXL_20201026_135107396.jpg   \n",
              "27                              /content/content/testing_set/PXL_20201026_135052841.jpg   \n",
              "28                              /content/content/testing_set/PXL_20201026_135044420.jpg   \n",
              "29                              /content/content/testing_set/PXL_20201026_135043446.jpg   \n",
              "30                              /content/content/testing_set/PXL_20201026_135040573.jpg   \n",
              "31                              /content/content/testing_set/PXL_20201026_135012076.jpg   \n",
              "32                              /content/content/testing_set/PXL_20201026_135001981.jpg   \n",
              "33                              /content/content/testing_set/PXL_20201026_134945797.jpg   \n",
              "34                              /content/content/testing_set/PXL_20201026_134956181.jpg   \n",
              "35                              /content/content/testing_set/PXL_20201026_134951643.jpg   \n",
              "36                              /content/content/testing_set/PXL_20201026_134954438.jpg   \n",
              "37                              /content/content/testing_set/PXL_20201026_000820814.jpg   \n",
              "38                              /content/content/testing_set/PXL_20201026_000819556.jpg   \n",
              "39                              /content/content/testing_set/PXL_20201026_000632284.jpg   \n",
              "40                              /content/content/testing_set/PXL_20201026_000619496.jpg   \n",
              "41                              /content/content/testing_set/PXL_20201026_000614264.jpg   \n",
              "\n",
              "               label  \n",
              "0         asha,chidi  \n",
              "1         asha,chidi  \n",
              "2         asha,chidi  \n",
              "3         asha,chidi  \n",
              "4         asha,chidi  \n",
              "5         asha,chidi  \n",
              "6         asha,chidi  \n",
              "7         asha,chidi  \n",
              "8         asha,vahti  \n",
              "9         asha,vahti  \n",
              "10        asha,vahti  \n",
              "11        asha,vahti  \n",
              "12  asha,chidi,vahti  \n",
              "13  asha,chidi,vahti  \n",
              "14        asha,vahti  \n",
              "15        asha,vahti  \n",
              "16        asha,chidi  \n",
              "17        asha,chidi  \n",
              "18        asha,chidi  \n",
              "19        asha,chidi  \n",
              "20  asha,chidi,vahti  \n",
              "21  asha,chidi,vahti  \n",
              "22  asha,chidi,vahti  \n",
              "23  asha,chidi,vahti  \n",
              "24  asha,chidi,vahti  \n",
              "25  asha,chidi,vahti  \n",
              "26        asha,chidi  \n",
              "27        asha,chidi  \n",
              "28        asha,chidi  \n",
              "29        asha,chidi  \n",
              "30        asha,chidi  \n",
              "31        asha,chidi  \n",
              "32        asha,chidi  \n",
              "33        asha,chidi  \n",
              "34        asha,chidi  \n",
              "35        asha,chidi  \n",
              "36        asha,chidi  \n",
              "37        asha,chidi  \n",
              "38        asha,chidi  \n",
              "39        asha,chidi  \n",
              "40        asha,chidi  \n",
              "41        asha,chidi  "
            ]
          },
          "metadata": {
            "tags": []
          },
          "execution_count": 21
        }
      ]
    },
    {
      "cell_type": "markdown",
      "metadata": {
        "id": "CptiBEMmvRSA"
      },
      "source": [
        "## testing using path (df below)\n"
      ]
    },
    {
      "cell_type": "code",
      "metadata": {
        "id": "U9XYUsW6c2zY"
      },
      "source": [
        "k=0"
      ],
      "execution_count": null,
      "outputs": []
    },
    {
      "cell_type": "code",
      "metadata": {
        "id": "D2KIWXLFqfEE",
        "outputId": "0eec18dc-61f3-4fd1-80f3-6e1a652e3622",
        "colab": {
          "base_uri": "https://localhost:8080/",
          "height": 35
        }
      },
      "source": [
        "#one by one using path( to use dataframe go below)\n",
        "dest=Path(\".\")\n",
        "oldname=Path(files[k])\n",
        "resize_image(file=oldname,dest=dest,max_size=128)\n",
        "newpic=(dest/oldname)\n",
        "files[k]\n",
        "#newpic=\"/content/drive/Shared drives/Fastai Practice/Mutl_cat/multiple_cat/IMG_20200329_141945.jpg\"\n",
        "#newpic='/content/drive/Shared drives/Fastai Practice/Mutl_cat/multiple_cat/IMG_20191203_093948.jpg'\n",
        "#newpic='/content/drive/Shared drives/Fastai Practice/Mutl_cat/multiple_cat/IMG_20190518_164859_1.jpg'\n",
        "#newpic='/content/drive/Shared drives/Fastai Practice/Mutl_cat/multiple_cat/00100lrPORTRAIT_00100_BURST20200128083515223_COVER.jpg'\n",
        "#newpic=\"/content/drive/Shared drives/Fastai Practice/Mutl_cat/Vahti/00000IMG_00000_BURST20200513143954170_COVER.jpg\"\n",
        "#newpic=\"/content/drive/Shared drives/Fastai Practice/Random Test set/chidi_test/IMG_20181209_173906.jpg\"\n",
        "\n",
        "#newpic=\"/content/drive/Shared drives/Fastai Practice/Random Test set/asha_test/IMG_20180321_223527.jpg\"\n",
        "#newpic=\"/content/drive/Shared drives/Fastai Practice/Random Test set/no cat/IMG_20190610_154216.jpg\"\n",
        "k+=1\n",
        "if k==len(files):\n",
        "  print('done')\n",
        "else:\n",
        "  print(k)"
      ],
      "execution_count": null,
      "outputs": [
        {
          "output_type": "stream",
          "text": [
            "4\n"
          ],
          "name": "stdout"
        }
      ]
    },
    {
      "cell_type": "code",
      "metadata": {
        "id": "1HOI6-KawCzV",
        "outputId": "32d4f795-ad8e-45fc-d38c-d1cf86656ce1",
        "colab": {
          "base_uri": "https://localhost:8080/",
          "height": 231
        }
      },
      "source": [
        "from IPython.display import Image\n",
        "Image(filename=str(newpic),width=400,height=400) "
      ],
      "execution_count": null,
      "outputs": [
        {
          "output_type": "error",
          "ename": "NameError",
          "evalue": "ignored",
          "traceback": [
            "\u001b[0;31m---------------------------------------------------------------------------\u001b[0m",
            "\u001b[0;31mNameError\u001b[0m                                 Traceback (most recent call last)",
            "\u001b[0;32m<ipython-input-2-c29bcf1cc049>\u001b[0m in \u001b[0;36m<module>\u001b[0;34m()\u001b[0m\n\u001b[0;32m----> 1\u001b[0;31m \u001b[0mfile\u001b[0m\u001b[0;34m=\u001b[0m\u001b[0mopen\u001b[0m\u001b[0;34m(\u001b[0m\u001b[0mnewpic\u001b[0m\u001b[0;34m,\u001b[0m\u001b[0;34m\"rb\"\u001b[0m\u001b[0;34m)\u001b[0m\u001b[0;34m\u001b[0m\u001b[0;34m\u001b[0m\u001b[0m\n\u001b[0m\u001b[1;32m      2\u001b[0m \u001b[0mimage\u001b[0m \u001b[0;34m=\u001b[0m \u001b[0mfile\u001b[0m\u001b[0;34m.\u001b[0m\u001b[0mread\u001b[0m\u001b[0;34m(\u001b[0m\u001b[0;34m)\u001b[0m\u001b[0;34m\u001b[0m\u001b[0;34m\u001b[0m\u001b[0m\n\u001b[1;32m      3\u001b[0m widgets.Image(\n\u001b[1;32m      4\u001b[0m     \u001b[0mvalue\u001b[0m\u001b[0;34m=\u001b[0m\u001b[0mimage\u001b[0m\u001b[0;34m,\u001b[0m\u001b[0;34m\u001b[0m\u001b[0;34m\u001b[0m\u001b[0m\n\u001b[1;32m      5\u001b[0m     \u001b[0mformat\u001b[0m\u001b[0;34m=\u001b[0m\u001b[0;34m'png'\u001b[0m\u001b[0;34m,\u001b[0m\u001b[0;34m\u001b[0m\u001b[0;34m\u001b[0m\u001b[0m\n",
            "\u001b[0;31mNameError\u001b[0m: name 'newpic' is not defined"
          ]
        }
      ]
    },
    {
      "cell_type": "code",
      "metadata": {
        "id": "6bWNabHyqixm",
        "outputId": "35db2db0-0cc6-48aa-baa7-dbc2196ae7e8",
        "colab": {
          "base_uri": "https://localhost:8080/",
          "height": 72
        }
      },
      "source": [
        "learn_inf.predict(newpic)"
      ],
      "execution_count": null,
      "outputs": [
        {
          "output_type": "display_data",
          "data": {
            "text/html": [
              ""
            ],
            "text/plain": [
              "<IPython.core.display.HTML object>"
            ]
          },
          "metadata": {
            "tags": []
          }
        },
        {
          "output_type": "execute_result",
          "data": {
            "text/plain": [
              "((#3) ['asha','chidi','vahti'],\n",
              " tensor([True, True, True]),\n",
              " tensor([1.0000, 0.8388, 0.7895]))"
            ]
          },
          "metadata": {
            "tags": []
          },
          "execution_count": 22
        }
      ]
    },
    {
      "cell_type": "code",
      "metadata": {
        "id": "YN19hshy2ycT",
        "outputId": "476aabaf-452e-40d7-a55f-0e70be81ec2f",
        "colab": {
          "base_uri": "https://localhost:8080/",
          "height": 35
        }
      },
      "source": [
        "j=input('is it correct (y/n)')\n",
        "if j==\"y\":\n",
        "  t=1\n",
        "else:\n",
        "  t=0\n",
        "res.append(t)"
      ],
      "execution_count": null,
      "outputs": [
        {
          "output_type": "stream",
          "text": [
            "is it correct (y/n)y\n"
          ],
          "name": "stdout"
        }
      ]
    },
    {
      "cell_type": "code",
      "metadata": {
        "id": "QPkXV5QMrfR8",
        "outputId": "475c2323-f5e6-458b-c5cb-1574f777d372",
        "colab": {
          "base_uri": "https://localhost:8080/",
          "height": 144
        }
      },
      "source": [
        "ydoc(learn_inf.predict)\n"
      ],
      "execution_count": null,
      "outputs": [
        {
          "output_type": "display_data",
          "data": {
            "text/html": [
              "<h4 id=\"Learner.predict\" class=\"doc_header\"><code>Learner.predict</code><a href=\"https://github.com/fastai/fastai/tree/master/fastai/learner.py#L246\" class=\"source_link\" style=\"float:right\">[source]</a></h4><blockquote><p><code>Learner.predict</code>(<strong><code>item</code></strong>, <strong><code>rm_type_tfms</code></strong>=<em><code>None</code></em>, <strong><code>with_input</code></strong>=<em><code>False</code></em>)</p>\n",
              "</blockquote>\n",
              "<p>Prediction on <code>item</code>, fully decoded, loss function decoded and probabilities</p>\n",
              "<p><a href=\"https://docs.fast.ai/learner#Learner.predict\" target=\"_blank\" rel=\"noreferrer noopener\">Show in docs</a></p>\n"
            ],
            "text/plain": [
              "<IPython.core.display.HTML object>"
            ]
          },
          "metadata": {
            "tags": []
          }
        }
      ]
    },
    {
      "cell_type": "code",
      "metadata": {
        "id": "pEmwY2UMA-s4",
        "outputId": "c3185f28-20db-4c77-aefc-49534522686f",
        "colab": {
          "base_uri": "https://localhost:8080/",
          "height": 35
        }
      },
      "source": [
        "print('mean={}'.format(sum(res)/len(res)))"
      ],
      "execution_count": null,
      "outputs": [
        {
          "output_type": "stream",
          "text": [
            "mean=0.9375\n"
          ],
          "name": "stdout"
        }
      ]
    },
    {
      "cell_type": "code",
      "metadata": {
        "id": "5I7w7ZlV5pAs",
        "outputId": "bcef89d1-8678-412d-f873-fd76713a8de3",
        "colab": {
          "base_uri": "https://localhost:8080/",
          "height": 35
        }
      },
      "source": [
        "res"
      ],
      "execution_count": null,
      "outputs": [
        {
          "output_type": "execute_result",
          "data": {
            "text/plain": [
              "[1, 1, 1, 0, 1, 1, 1, 1, 1, 1, 1, 1, 1, 1, 1, 1]"
            ]
          },
          "metadata": {
            "tags": []
          },
          "execution_count": 240
        }
      ]
    },
    {
      "cell_type": "markdown",
      "metadata": {
        "id": "pqk-BTxyvkhG"
      },
      "source": [
        "## Testing (dataframe)\n"
      ]
    },
    {
      "cell_type": "code",
      "metadata": {
        "id": "Uh9y_FYx7zh7",
        "outputId": "dc84f375-2fb9-4dff-ffee-b81d123b7abd",
        "colab": {
          "base_uri": "https://localhost:8080/",
          "height": 1000
        }
      },
      "source": [
        "#using dataframe\n",
        "broken=[]\n",
        "for index,row in df.iterrows():\n",
        "  try:\n",
        "    res=learn_inf.predict(row['image'])\n",
        "    print('predict={} label={}'.format(res[0],row['label']))\n",
        "    newlabel=\",\".join(res[0])\n",
        "    if newlabel!=row['label']:\n",
        "      broken.append([row['image'],row['label'],newlabel,res[2]])\n",
        "      print ('labels dont match for {}'.format(row['image']))\n",
        "    #input('press enter to continue')\n",
        "  except:\n",
        "    print('error finding {}'.format(row['image']))"
      ],
      "execution_count": null,
      "outputs": [
        {
          "output_type": "display_data",
          "data": {
            "text/html": [
              ""
            ],
            "text/plain": [
              "<IPython.core.display.HTML object>"
            ]
          },
          "metadata": {
            "tags": []
          }
        },
        {
          "output_type": "stream",
          "text": [
            "error finding /content/content/testing_set/IMG_20200428_203407.jpg\n"
          ],
          "name": "stdout"
        },
        {
          "output_type": "display_data",
          "data": {
            "text/html": [
              ""
            ],
            "text/plain": [
              "<IPython.core.display.HTML object>"
            ]
          },
          "metadata": {
            "tags": []
          }
        },
        {
          "output_type": "stream",
          "text": [
            "predict=['asha', 'chidi'] label=asha,chidi\n"
          ],
          "name": "stdout"
        },
        {
          "output_type": "display_data",
          "data": {
            "text/html": [
              ""
            ],
            "text/plain": [
              "<IPython.core.display.HTML object>"
            ]
          },
          "metadata": {
            "tags": []
          }
        },
        {
          "output_type": "stream",
          "text": [
            "predict=['asha', 'chidi'] label=asha,chidi\n"
          ],
          "name": "stdout"
        },
        {
          "output_type": "display_data",
          "data": {
            "text/html": [
              ""
            ],
            "text/plain": [
              "<IPython.core.display.HTML object>"
            ]
          },
          "metadata": {
            "tags": []
          }
        },
        {
          "output_type": "stream",
          "text": [
            "predict=['asha', 'vahti'] label=asha,chidi\n",
            "labels dont match for /content/content/testing_set/IMG_20200329_141945.jpg\n"
          ],
          "name": "stdout"
        },
        {
          "output_type": "display_data",
          "data": {
            "text/html": [
              ""
            ],
            "text/plain": [
              "<IPython.core.display.HTML object>"
            ]
          },
          "metadata": {
            "tags": []
          }
        },
        {
          "output_type": "stream",
          "text": [
            "error finding /content/content/testing_set/IMG_20190609_130854.jpg\n"
          ],
          "name": "stdout"
        },
        {
          "output_type": "display_data",
          "data": {
            "text/html": [
              ""
            ],
            "text/plain": [
              "<IPython.core.display.HTML object>"
            ]
          },
          "metadata": {
            "tags": []
          }
        },
        {
          "output_type": "stream",
          "text": [
            "predict=['asha'] label=asha,chidi\n",
            "labels dont match for /content/content/testing_set/IMG_20191015_231022.jpg\n"
          ],
          "name": "stdout"
        },
        {
          "output_type": "display_data",
          "data": {
            "text/html": [
              ""
            ],
            "text/plain": [
              "<IPython.core.display.HTML object>"
            ]
          },
          "metadata": {
            "tags": []
          }
        },
        {
          "output_type": "stream",
          "text": [
            "error finding /content/content/testing_set/IMG_20190530_020937.jpg\n"
          ],
          "name": "stdout"
        },
        {
          "output_type": "display_data",
          "data": {
            "text/html": [
              ""
            ],
            "text/plain": [
              "<IPython.core.display.HTML object>"
            ]
          },
          "metadata": {
            "tags": []
          }
        },
        {
          "output_type": "stream",
          "text": [
            "error finding /content/content/testing_set/IMG_20190113_114712.jpg\n"
          ],
          "name": "stdout"
        },
        {
          "output_type": "display_data",
          "data": {
            "text/html": [
              ""
            ],
            "text/plain": [
              "<IPython.core.display.HTML object>"
            ]
          },
          "metadata": {
            "tags": []
          }
        },
        {
          "output_type": "stream",
          "text": [
            "predict=['asha', 'vahti'] label=asha,vahti\n"
          ],
          "name": "stdout"
        },
        {
          "output_type": "display_data",
          "data": {
            "text/html": [
              ""
            ],
            "text/plain": [
              "<IPython.core.display.HTML object>"
            ]
          },
          "metadata": {
            "tags": []
          }
        },
        {
          "output_type": "stream",
          "text": [
            "predict=['asha', 'vahti'] label=asha,vahti\n"
          ],
          "name": "stdout"
        },
        {
          "output_type": "display_data",
          "data": {
            "text/html": [
              ""
            ],
            "text/plain": [
              "<IPython.core.display.HTML object>"
            ]
          },
          "metadata": {
            "tags": []
          }
        },
        {
          "output_type": "stream",
          "text": [
            "predict=['asha', 'vahti'] label=asha,vahti\n"
          ],
          "name": "stdout"
        },
        {
          "output_type": "display_data",
          "data": {
            "text/html": [
              ""
            ],
            "text/plain": [
              "<IPython.core.display.HTML object>"
            ]
          },
          "metadata": {
            "tags": []
          }
        },
        {
          "output_type": "stream",
          "text": [
            "predict=['asha', 'vahti'] label=asha,vahti\n"
          ],
          "name": "stdout"
        },
        {
          "output_type": "display_data",
          "data": {
            "text/html": [
              ""
            ],
            "text/plain": [
              "<IPython.core.display.HTML object>"
            ]
          },
          "metadata": {
            "tags": []
          }
        },
        {
          "output_type": "stream",
          "text": [
            "predict=['asha', 'vahti'] label=asha,chidi,vahti\n",
            "labels dont match for /content/content/testing_set/IMG_20191203_093948.jpg\n"
          ],
          "name": "stdout"
        },
        {
          "output_type": "display_data",
          "data": {
            "text/html": [
              ""
            ],
            "text/plain": [
              "<IPython.core.display.HTML object>"
            ]
          },
          "metadata": {
            "tags": []
          }
        },
        {
          "output_type": "stream",
          "text": [
            "predict=['asha', 'vahti'] label=asha,chidi,vahti\n",
            "labels dont match for /content/content/testing_set/IMG_20191203_093946.jpg\n"
          ],
          "name": "stdout"
        },
        {
          "output_type": "display_data",
          "data": {
            "text/html": [
              ""
            ],
            "text/plain": [
              "<IPython.core.display.HTML object>"
            ]
          },
          "metadata": {
            "tags": []
          }
        },
        {
          "output_type": "stream",
          "text": [
            "error finding /content/content/testing_set/IMG_20190707_174912.jpg\n"
          ],
          "name": "stdout"
        },
        {
          "output_type": "display_data",
          "data": {
            "text/html": [
              ""
            ],
            "text/plain": [
              "<IPython.core.display.HTML object>"
            ]
          },
          "metadata": {
            "tags": []
          }
        },
        {
          "output_type": "stream",
          "text": [
            "predict=['asha', 'vahti'] label=asha,vahti\n"
          ],
          "name": "stdout"
        },
        {
          "output_type": "display_data",
          "data": {
            "text/html": [
              ""
            ],
            "text/plain": [
              "<IPython.core.display.HTML object>"
            ]
          },
          "metadata": {
            "tags": []
          }
        },
        {
          "output_type": "stream",
          "text": [
            "predict=['asha', 'vahti'] label=asha,chidi\n",
            "labels dont match for /content/content/testing_set/PXL_20201026_162352886.jpg\n"
          ],
          "name": "stdout"
        },
        {
          "output_type": "display_data",
          "data": {
            "text/html": [
              ""
            ],
            "text/plain": [
              "<IPython.core.display.HTML object>"
            ]
          },
          "metadata": {
            "tags": []
          }
        },
        {
          "output_type": "stream",
          "text": [
            "predict=['asha', 'vahti'] label=asha,chidi\n",
            "labels dont match for /content/content/testing_set/PXL_20201026_162351990.jpg\n"
          ],
          "name": "stdout"
        },
        {
          "output_type": "display_data",
          "data": {
            "text/html": [
              ""
            ],
            "text/plain": [
              "<IPython.core.display.HTML object>"
            ]
          },
          "metadata": {
            "tags": []
          }
        },
        {
          "output_type": "stream",
          "text": [
            "predict=['asha', 'vahti'] label=asha,chidi\n",
            "labels dont match for /content/content/testing_set/PXL_20201026_162354448.jpg\n"
          ],
          "name": "stdout"
        },
        {
          "output_type": "display_data",
          "data": {
            "text/html": [
              ""
            ],
            "text/plain": [
              "<IPython.core.display.HTML object>"
            ]
          },
          "metadata": {
            "tags": []
          }
        },
        {
          "output_type": "stream",
          "text": [
            "predict=['asha', 'vahti'] label=asha,chidi\n",
            "labels dont match for /content/content/testing_set/PXL_20201026_162357576.jpg\n"
          ],
          "name": "stdout"
        },
        {
          "output_type": "display_data",
          "data": {
            "text/html": [
              ""
            ],
            "text/plain": [
              "<IPython.core.display.HTML object>"
            ]
          },
          "metadata": {
            "tags": []
          }
        },
        {
          "output_type": "stream",
          "text": [
            "predict=['asha', 'chidi', 'vahti'] label=asha,chidi,vahti\n"
          ],
          "name": "stdout"
        },
        {
          "output_type": "display_data",
          "data": {
            "text/html": [
              ""
            ],
            "text/plain": [
              "<IPython.core.display.HTML object>"
            ]
          },
          "metadata": {
            "tags": []
          }
        },
        {
          "output_type": "stream",
          "text": [
            "predict=['asha', 'chidi', 'vahti'] label=asha,chidi,vahti\n"
          ],
          "name": "stdout"
        },
        {
          "output_type": "display_data",
          "data": {
            "text/html": [
              ""
            ],
            "text/plain": [
              "<IPython.core.display.HTML object>"
            ]
          },
          "metadata": {
            "tags": []
          }
        },
        {
          "output_type": "stream",
          "text": [
            "predict=['asha', 'chidi', 'vahti'] label=asha,chidi,vahti\n"
          ],
          "name": "stdout"
        },
        {
          "output_type": "display_data",
          "data": {
            "text/html": [
              ""
            ],
            "text/plain": [
              "<IPython.core.display.HTML object>"
            ]
          },
          "metadata": {
            "tags": []
          }
        },
        {
          "output_type": "stream",
          "text": [
            "predict=['asha', 'chidi', 'vahti'] label=asha,chidi,vahti\n"
          ],
          "name": "stdout"
        },
        {
          "output_type": "display_data",
          "data": {
            "text/html": [
              ""
            ],
            "text/plain": [
              "<IPython.core.display.HTML object>"
            ]
          },
          "metadata": {
            "tags": []
          }
        },
        {
          "output_type": "stream",
          "text": [
            "predict=['asha', 'chidi', 'vahti'] label=asha,chidi,vahti\n"
          ],
          "name": "stdout"
        },
        {
          "output_type": "display_data",
          "data": {
            "text/html": [
              ""
            ],
            "text/plain": [
              "<IPython.core.display.HTML object>"
            ]
          },
          "metadata": {
            "tags": []
          }
        },
        {
          "output_type": "stream",
          "text": [
            "predict=['asha', 'chidi', 'vahti'] label=asha,chidi,vahti\n"
          ],
          "name": "stdout"
        },
        {
          "output_type": "display_data",
          "data": {
            "text/html": [
              ""
            ],
            "text/plain": [
              "<IPython.core.display.HTML object>"
            ]
          },
          "metadata": {
            "tags": []
          }
        },
        {
          "output_type": "stream",
          "text": [
            "predict=['asha', 'vahti'] label=asha,chidi\n",
            "labels dont match for /content/content/testing_set/PXL_20201026_135107396.jpg\n"
          ],
          "name": "stdout"
        },
        {
          "output_type": "display_data",
          "data": {
            "text/html": [
              ""
            ],
            "text/plain": [
              "<IPython.core.display.HTML object>"
            ]
          },
          "metadata": {
            "tags": []
          }
        },
        {
          "output_type": "stream",
          "text": [
            "predict=['asha', 'vahti'] label=asha,chidi\n",
            "labels dont match for /content/content/testing_set/PXL_20201026_135052841.jpg\n"
          ],
          "name": "stdout"
        },
        {
          "output_type": "display_data",
          "data": {
            "text/html": [
              ""
            ],
            "text/plain": [
              "<IPython.core.display.HTML object>"
            ]
          },
          "metadata": {
            "tags": []
          }
        },
        {
          "output_type": "stream",
          "text": [
            "predict=['asha', 'vahti'] label=asha,chidi\n",
            "labels dont match for /content/content/testing_set/PXL_20201026_135044420.jpg\n"
          ],
          "name": "stdout"
        },
        {
          "output_type": "display_data",
          "data": {
            "text/html": [
              ""
            ],
            "text/plain": [
              "<IPython.core.display.HTML object>"
            ]
          },
          "metadata": {
            "tags": []
          }
        },
        {
          "output_type": "stream",
          "text": [
            "predict=['asha', 'vahti'] label=asha,chidi\n",
            "labels dont match for /content/content/testing_set/PXL_20201026_135043446.jpg\n"
          ],
          "name": "stdout"
        },
        {
          "output_type": "display_data",
          "data": {
            "text/html": [
              ""
            ],
            "text/plain": [
              "<IPython.core.display.HTML object>"
            ]
          },
          "metadata": {
            "tags": []
          }
        },
        {
          "output_type": "stream",
          "text": [
            "predict=['asha', 'vahti'] label=asha,chidi\n",
            "labels dont match for /content/content/testing_set/PXL_20201026_135040573.jpg\n"
          ],
          "name": "stdout"
        },
        {
          "output_type": "display_data",
          "data": {
            "text/html": [
              ""
            ],
            "text/plain": [
              "<IPython.core.display.HTML object>"
            ]
          },
          "metadata": {
            "tags": []
          }
        },
        {
          "output_type": "stream",
          "text": [
            "predict=['asha', 'vahti'] label=asha,chidi\n",
            "labels dont match for /content/content/testing_set/PXL_20201026_135012076.jpg\n"
          ],
          "name": "stdout"
        },
        {
          "output_type": "display_data",
          "data": {
            "text/html": [
              ""
            ],
            "text/plain": [
              "<IPython.core.display.HTML object>"
            ]
          },
          "metadata": {
            "tags": []
          }
        },
        {
          "output_type": "stream",
          "text": [
            "predict=['asha', 'vahti'] label=asha,chidi\n",
            "labels dont match for /content/content/testing_set/PXL_20201026_135001981.jpg\n"
          ],
          "name": "stdout"
        },
        {
          "output_type": "display_data",
          "data": {
            "text/html": [
              ""
            ],
            "text/plain": [
              "<IPython.core.display.HTML object>"
            ]
          },
          "metadata": {
            "tags": []
          }
        },
        {
          "output_type": "stream",
          "text": [
            "predict=['chidi', 'vahti'] label=asha,chidi\n",
            "labels dont match for /content/content/testing_set/PXL_20201026_134945797.jpg\n"
          ],
          "name": "stdout"
        },
        {
          "output_type": "display_data",
          "data": {
            "text/html": [
              ""
            ],
            "text/plain": [
              "<IPython.core.display.HTML object>"
            ]
          },
          "metadata": {
            "tags": []
          }
        },
        {
          "output_type": "stream",
          "text": [
            "predict=['asha', 'vahti'] label=asha,chidi\n",
            "labels dont match for /content/content/testing_set/PXL_20201026_134956181.jpg\n"
          ],
          "name": "stdout"
        },
        {
          "output_type": "display_data",
          "data": {
            "text/html": [
              ""
            ],
            "text/plain": [
              "<IPython.core.display.HTML object>"
            ]
          },
          "metadata": {
            "tags": []
          }
        },
        {
          "output_type": "stream",
          "text": [
            "predict=['asha', 'vahti'] label=asha,chidi\n",
            "labels dont match for /content/content/testing_set/PXL_20201026_134951643.jpg\n"
          ],
          "name": "stdout"
        },
        {
          "output_type": "display_data",
          "data": {
            "text/html": [
              ""
            ],
            "text/plain": [
              "<IPython.core.display.HTML object>"
            ]
          },
          "metadata": {
            "tags": []
          }
        },
        {
          "output_type": "stream",
          "text": [
            "predict=['asha', 'chidi', 'vahti'] label=asha,chidi\n",
            "labels dont match for /content/content/testing_set/PXL_20201026_134954438.jpg\n"
          ],
          "name": "stdout"
        },
        {
          "output_type": "display_data",
          "data": {
            "text/html": [
              ""
            ],
            "text/plain": [
              "<IPython.core.display.HTML object>"
            ]
          },
          "metadata": {
            "tags": []
          }
        },
        {
          "output_type": "stream",
          "text": [
            "predict=['asha', 'chidi', 'vahti'] label=asha,chidi\n",
            "labels dont match for /content/content/testing_set/PXL_20201026_000820814.jpg\n"
          ],
          "name": "stdout"
        },
        {
          "output_type": "display_data",
          "data": {
            "text/html": [
              ""
            ],
            "text/plain": [
              "<IPython.core.display.HTML object>"
            ]
          },
          "metadata": {
            "tags": []
          }
        },
        {
          "output_type": "stream",
          "text": [
            "predict=['asha', 'chidi', 'vahti'] label=asha,chidi\n",
            "labels dont match for /content/content/testing_set/PXL_20201026_000819556.jpg\n"
          ],
          "name": "stdout"
        },
        {
          "output_type": "display_data",
          "data": {
            "text/html": [
              ""
            ],
            "text/plain": [
              "<IPython.core.display.HTML object>"
            ]
          },
          "metadata": {
            "tags": []
          }
        },
        {
          "output_type": "stream",
          "text": [
            "predict=['asha', 'chidi', 'vahti'] label=asha,chidi\n",
            "labels dont match for /content/content/testing_set/PXL_20201026_000632284.jpg\n"
          ],
          "name": "stdout"
        },
        {
          "output_type": "display_data",
          "data": {
            "text/html": [
              ""
            ],
            "text/plain": [
              "<IPython.core.display.HTML object>"
            ]
          },
          "metadata": {
            "tags": []
          }
        },
        {
          "output_type": "stream",
          "text": [
            "predict=['asha', 'chidi', 'vahti'] label=asha,chidi\n",
            "labels dont match for /content/content/testing_set/PXL_20201026_000619496.jpg\n"
          ],
          "name": "stdout"
        },
        {
          "output_type": "display_data",
          "data": {
            "text/html": [
              ""
            ],
            "text/plain": [
              "<IPython.core.display.HTML object>"
            ]
          },
          "metadata": {
            "tags": []
          }
        },
        {
          "output_type": "stream",
          "text": [
            "predict=['asha', 'chidi', 'vahti'] label=asha,chidi\n",
            "labels dont match for /content/content/testing_set/PXL_20201026_000614264.jpg\n"
          ],
          "name": "stdout"
        }
      ]
    },
    {
      "cell_type": "code",
      "metadata": {
        "id": "38m0I91a7_cz",
        "outputId": "1de2f8f8-1205-4943-ec35-2aa073ebcef9",
        "colab": {
          "base_uri": "https://localhost:8080/"
        }
      },
      "source": [
        "er=len(broken)/len(df)\n",
        "print('error rate={} accuracy={}'.format(er*100,(1-er)*100))"
      ],
      "execution_count": null,
      "outputs": [
        {
          "output_type": "stream",
          "text": [
            "error rate=57.14285714285714 accuracy=42.85714285714286\n"
          ],
          "name": "stdout"
        }
      ]
    },
    {
      "cell_type": "code",
      "metadata": {
        "id": "SbqjoWwaxe87"
      },
      "source": [
        "odf=pd.DataFrame(broken,columns=['image','expect_label','predic_label','tensor'])\n",
        "odf.to_csv(data_path+\"/errors_v8.csv\")"
      ],
      "execution_count": null,
      "outputs": []
    },
    {
      "cell_type": "code",
      "metadata": {
        "id": "pwXFvqgsDdjy"
      },
      "source": [
        ""
      ],
      "execution_count": null,
      "outputs": []
    }
  ]
}